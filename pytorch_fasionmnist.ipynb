{
  "nbformat": 4,
  "nbformat_minor": 0,
  "metadata": {
    "colab": {
      "name": "50.039 DL Week 3 Coding HW",
      "version": "0.3.2",
      "provenance": [],
      "include_colab_link": true
    },
    "kernelspec": {
      "name": "python3",
      "display_name": "Python 3"
    },
    "accelerator": "GPU"
  },
  "cells": [
    {
      "cell_type": "markdown",
      "metadata": {
        "id": "view-in-github",
        "colab_type": "text"
      },
      "source": [
        "<a href=\"https://colab.research.google.com/github/charleswongzx/pytorch-fashionmnist/blob/master/pytorch_fasionmnist.ipynb\" target=\"_parent\"><img src=\"https://colab.research.google.com/assets/colab-badge.svg\" alt=\"Open In Colab\"/></a>"
      ]
    },
    {
      "metadata": {
        "id": "79zzIWec54Z5",
        "colab_type": "text"
      },
      "cell_type": "markdown",
      "source": [
        "# A simple neural network for FashionMNIST\n",
        "\n",
        "## Important Imports"
      ]
    },
    {
      "metadata": {
        "id": "XSKJP6lFk9ZJ",
        "colab_type": "code",
        "colab": {}
      },
      "cell_type": "code",
      "source": [
        "import torch\n",
        "import torch.nn as nn\n",
        "from torchvision import datasets, transforms\n",
        "from tqdm import tqdm\n",
        "import torch.nn.functional as F \n",
        "import torch.optim as optim\n",
        "import numpy as np\n",
        "from torch.utils.data import SubsetRandomSampler\n",
        "import matplotlib.pyplot as plt\n",
        "\n",
        "%matplotlib inline"
      ],
      "execution_count": 0,
      "outputs": []
    },
    {
      "metadata": {
        "id": "EIiKC3Pf9BWu",
        "colab_type": "text"
      },
      "cell_type": "markdown",
      "source": [
        "## Define Hyperparameters"
      ]
    },
    {
      "metadata": {
        "id": "vzZawup-9DV0",
        "colab_type": "code",
        "colab": {}
      },
      "cell_type": "code",
      "source": [
        "batch_train = 128\n",
        "batch_val = 128\n",
        "epochs = 50"
      ],
      "execution_count": 0,
      "outputs": []
    },
    {
      "metadata": {
        "id": "kT4Xt1Q156zo",
        "colab_type": "text"
      },
      "cell_type": "markdown",
      "source": [
        "## Loading Data\n",
        "Here we make use of Torch's dataset and dataloader class for easy data manipulation and batching.\n",
        "As instructed, we are splitting the data into an 80:20 train/test split, though this is not generally advised. Training the model on a loss function without a separate validation set increases likelihood of the model overfitting to that set, artificially inflating accuracy."
      ]
    },
    {
      "metadata": {
        "id": "vy9j24ZpnLRB",
        "colab_type": "code",
        "colab": {}
      },
      "cell_type": "code",
      "source": [
        "fashion_mnist_data = datasets.FashionMNIST(\"../data\", train=True, download=True,\n",
        "                                        transform=transforms.Compose([transforms.ToTensor()]))\n",
        "\n",
        "dataset_size = len(fashion_mnist_data)\n",
        "indices = [i for i in range(dataset_size)]\n",
        "\n",
        "np.random.shuffle(indices)\n",
        "\n",
        "split = int(np.floor(0.2 * dataset_size))\n",
        "train_indices, val_indices = indices[split:], indices[:split]\n",
        "\n",
        "train_sampler = SubsetRandomSampler(train_indices)\n",
        "valid_sampler = SubsetRandomSampler(val_indices)\n",
        "\n",
        "train_loader = torch.utils.data.DataLoader(fashion_mnist_data, batch_size=batch_train, sampler=train_sampler)\n",
        "valid_loader = torch.utils.data.DataLoader(fashion_mnist_data, batch_size=batch_val, sampler=valid_sampler)"
      ],
      "execution_count": 0,
      "outputs": []
    },
    {
      "metadata": {
        "id": "Hx1zeEWR7DiI",
        "colab_type": "text"
      },
      "cell_type": "markdown",
      "source": [
        "## Defining Our Model\n",
        "As instructed, our model is as follows:\n",
        "\n",
        "* l1: fully connected layer with 300 neurons, followed by a relu\n",
        "* l2: fully connected layer with 100 neurons, followed by a relu\n",
        "* l3: fully connected layer with 10 neurons\n",
        "\n"
      ]
    },
    {
      "metadata": {
        "id": "B42QV9Qbn0_g",
        "colab_type": "code",
        "colab": {}
      },
      "cell_type": "code",
      "source": [
        "class SimpleNN(nn.Module):\n",
        "    def __init__(self, input_dims):\n",
        "        super(SimpleNN, self).__init__()\n",
        "        self.l1 = nn.Linear(input_dims, 300)\n",
        "        self.l2 = nn.Linear(300, 100)\n",
        "        self.l3 = nn.Linear(100, 10)\n",
        "    \n",
        "    def forward(self, x):\n",
        "        x = x.view(-1, 784)\n",
        "        x = self.l1(x)\n",
        "        x = F.relu(x)\n",
        "        x = self.l2(x)\n",
        "        x = F.relu(x)\n",
        "        x = self.l3(x)\n",
        "        return nn.functional.log_softmax(x, dim=1)"
      ],
      "execution_count": 0,
      "outputs": []
    },
    {
      "metadata": {
        "id": "1C7SR6MM7uCo",
        "colab_type": "text"
      },
      "cell_type": "markdown",
      "source": [
        "## Define Training, Validation and Test Sequences\n",
        "Below is a modified version of the example in pytorch/examples. Here, we add a record of correctly predicted samples, train + val loss, as well as saving best weights over each epoch."
      ]
    },
    {
      "metadata": {
        "id": "LS5pm-gb8x9c",
        "colab_type": "code",
        "colab": {}
      },
      "cell_type": "code",
      "source": [
        "def train(model, device, train_loader, optimizer):\n",
        "    model.train(True)\n",
        "\n",
        "    train_loss = 0\n",
        "    correct = 0\n",
        "\n",
        "    for batch_idx, (data, target) in enumerate(train_loader):\n",
        "        data, target = data.to(device), target.to(device)\n",
        "        optimizer.zero_grad()\n",
        "        output = model(data)\n",
        "        loss = F.nll_loss(output, target, reduction=\"mean\")\n",
        "        batch_loss = F.nll_loss(output, target, reduction=\"sum\").item()\n",
        "        train_loss += batch_loss\n",
        "        pred = output.argmax(dim=1, keepdim=True)\n",
        "        correct += pred.eq(target.view_as(pred)).sum().item()\n",
        "        loss.backward()\n",
        "        optimizer.step()\n",
        "\n",
        "    num_samples = len(train_loader.sampler)\n",
        "    avg_train_loss = train_loss/num_samples\n",
        "\n",
        "    print('train_loss: {:.4f}, train_accuracy: {}/{} ({:.3f})'.format(\n",
        "        avg_train_loss, correct, num_samples,\n",
        "        correct / num_samples))\n",
        "\n",
        "    return avg_train_loss, correct/num_samples\n",
        "\n",
        "\n",
        "def validation(model, device, valid_loader):\n",
        "    model.train(False)\n",
        "\n",
        "    val_loss = 0\n",
        "    correct = 0\n",
        "    with torch.no_grad():\n",
        "        for data, target in valid_loader:\n",
        "            data, target = data.to(device), target.to(device)\n",
        "            output = model(data)\n",
        "\n",
        "            val_loss += F.nll_loss(output, target, reduction='sum').item()\n",
        "            pred = output.argmax(dim=1, keepdim=True)\n",
        "            correct += pred.eq(target.view_as(pred)).sum().item()\n",
        "\n",
        "    num_samples = len(valid_loader.sampler)\n",
        "    avg_valid_loss = val_loss/num_samples\n",
        "\n",
        "    print('val_loss: {:.4f}, val_accuracy: {}/{} ({:.3f})'.format(\n",
        "        avg_valid_loss, correct, num_samples,\n",
        "        correct / num_samples))\n",
        "\n",
        "    return avg_valid_loss, correct/num_samples\n",
        "\n",
        "\n",
        "def test(model, device, test_loader):\n",
        "    model.eval()\n",
        "\n",
        "    test_loss = 0\n",
        "    correct = 0\n",
        "\n",
        "    clf_matrix = torch.zeros(10, 10)\n",
        "\n",
        "    with torch.no_grad():\n",
        "        for data, target in test_loader:\n",
        "            data, target = data.to(device), target.to(device)\n",
        "            output = model(data)\n",
        "            test_loss += F.nll_loss(output, target, reduction='sum').item() # sum up batch loss\n",
        "            pred = output.argmax(dim=1, keepdim=True) # get the index of the max log-probability\n",
        "            correct += pred.eq(target.view_as(pred)).sum().item()\n",
        "\n",
        "            for t, p in zip(target.view(-1), pred.view(-1)):\n",
        "                clf_matrix[t.long(), p.long()] += 1\n",
        "\n",
        "    num_samples = float(len(test_loader.sampler))\n",
        "    avg_test_loss = test_loss/num_samples\n",
        "\n",
        "    print('test_loss: {:.4f}, test_accuracy: {}/{} ({:.3f})\\n'.format(\n",
        "        avg_test_loss, correct, num_samples,\n",
        "        correct / num_samples))\n",
        "\n",
        "    clf_report = clf_matrix.diag()/clf_matrix.sum(1)\n",
        "\n",
        "    return avg_test_loss, correct/num_samples, clf_report\n"
      ],
      "execution_count": 0,
      "outputs": []
    },
    {
      "metadata": {
        "id": "E7s8PCHL_Ie7",
        "colab_type": "text"
      },
      "cell_type": "markdown",
      "source": [
        "## Training the Model"
      ]
    },
    {
      "metadata": {
        "id": "91M5ffhg_H_y",
        "colab_type": "code",
        "outputId": "dab602df-5187-4bf4-c238-ca9e43e8f015",
        "colab": {
          "base_uri": "https://localhost:8080/",
          "height": 4127
        }
      },
      "cell_type": "code",
      "source": [
        "use_cuda = torch.cuda.is_available()\n",
        "torch.manual_seed(10)\n",
        "device = torch.device(\"cuda\" if use_cuda else \"cpu\")\n",
        "\n",
        "print(\"Available device = \", device)\n",
        "model = SimpleNN(input_dims=28*28).to(device)\n",
        "optimizer = optim.SGD(model.parameters(), lr=0.01)\n",
        "\n",
        "loss_hist = []\n",
        "acc_hist = []\n",
        "\n",
        "for epoch in range(epochs):\n",
        "  print('Epoch: {}/{}'.format(epoch, epochs))\n",
        "  tr_loss, tr_acc = train(model, device, train_loader, optimizer)\n",
        "  val_loss, val_acc = validation(model, device, valid_loader)\n",
        "\n",
        "  if len(loss_hist)> 0:\n",
        "    if val_loss < min(loss_hist, key = lambda t: t[1])[1]:\n",
        "      print('Best loss recorded, saving weights...')\n",
        "      torch.save(model.state_dict(), 'fashionmnist.pt')\n",
        "\n",
        "  loss_hist.append((tr_loss, val_loss))\n",
        "  acc_hist.append((tr_acc, val_acc))\n",
        "  print(\"--------------------------------\")\n"
      ],
      "execution_count": 0,
      "outputs": [
        {
          "output_type": "stream",
          "text": [
            "Available device =  cuda\n",
            "Epoch: 0/50\n",
            "train_loss: 1.9384, train_accuracy: 21392/48000 (0.446)\n",
            "val_loss: 1.3863, val_accuracy: 6999/12000 (0.583)\n",
            "--------------------------------\n",
            "Epoch: 1/50\n",
            "train_loss: 1.0866, train_accuracy: 30624/48000 (0.638)\n",
            "val_loss: 0.9002, val_accuracy: 8109/12000 (0.676)\n",
            "Best loss recorded, saving weights...\n",
            "--------------------------------\n",
            "Epoch: 2/50\n",
            "train_loss: 0.8214, train_accuracy: 33418/48000 (0.696)\n",
            "val_loss: 0.7606, val_accuracy: 8587/12000 (0.716)\n",
            "Best loss recorded, saving weights...\n",
            "--------------------------------\n",
            "Epoch: 3/50\n",
            "train_loss: 0.7237, train_accuracy: 35309/48000 (0.736)\n",
            "val_loss: 0.6922, val_accuracy: 8968/12000 (0.747)\n",
            "Best loss recorded, saving weights...\n",
            "--------------------------------\n",
            "Epoch: 4/50\n",
            "train_loss: 0.6638, train_accuracy: 36604/48000 (0.763)\n",
            "val_loss: 0.6389, val_accuracy: 9301/12000 (0.775)\n",
            "Best loss recorded, saving weights...\n",
            "--------------------------------\n",
            "Epoch: 5/50\n",
            "train_loss: 0.6197, train_accuracy: 37541/48000 (0.782)\n",
            "val_loss: 0.6019, val_accuracy: 9482/12000 (0.790)\n",
            "Best loss recorded, saving weights...\n",
            "--------------------------------\n",
            "Epoch: 6/50\n",
            "train_loss: 0.5853, train_accuracy: 38198/48000 (0.796)\n",
            "val_loss: 0.5756, val_accuracy: 9640/12000 (0.803)\n",
            "Best loss recorded, saving weights...\n",
            "--------------------------------\n",
            "Epoch: 7/50\n",
            "train_loss: 0.5597, train_accuracy: 38567/48000 (0.803)\n",
            "val_loss: 0.5508, val_accuracy: 9736/12000 (0.811)\n",
            "Best loss recorded, saving weights...\n",
            "--------------------------------\n",
            "Epoch: 8/50\n",
            "train_loss: 0.5383, train_accuracy: 39007/48000 (0.813)\n",
            "val_loss: 0.5375, val_accuracy: 9750/12000 (0.812)\n",
            "Best loss recorded, saving weights...\n",
            "--------------------------------\n",
            "Epoch: 9/50\n",
            "train_loss: 0.5206, train_accuracy: 39266/48000 (0.818)\n",
            "val_loss: 0.5236, val_accuracy: 9779/12000 (0.815)\n",
            "Best loss recorded, saving weights...\n",
            "--------------------------------\n",
            "Epoch: 10/50\n",
            "train_loss: 0.5054, train_accuracy: 39494/48000 (0.823)\n",
            "val_loss: 0.5045, val_accuracy: 9897/12000 (0.825)\n",
            "Best loss recorded, saving weights...\n",
            "--------------------------------\n",
            "Epoch: 11/50\n",
            "train_loss: 0.4937, train_accuracy: 39681/48000 (0.827)\n",
            "val_loss: 0.4966, val_accuracy: 9885/12000 (0.824)\n",
            "Best loss recorded, saving weights...\n",
            "--------------------------------\n",
            "Epoch: 12/50\n",
            "train_loss: 0.4829, train_accuracy: 39825/48000 (0.830)\n",
            "val_loss: 0.4875, val_accuracy: 9970/12000 (0.831)\n",
            "Best loss recorded, saving weights...\n",
            "--------------------------------\n",
            "Epoch: 13/50\n",
            "train_loss: 0.4731, train_accuracy: 40052/48000 (0.834)\n",
            "val_loss: 0.4771, val_accuracy: 9981/12000 (0.832)\n",
            "Best loss recorded, saving weights...\n",
            "--------------------------------\n",
            "Epoch: 14/50\n",
            "train_loss: 0.4657, train_accuracy: 40194/48000 (0.837)\n",
            "val_loss: 0.4693, val_accuracy: 10051/12000 (0.838)\n",
            "Best loss recorded, saving weights...\n",
            "--------------------------------\n",
            "Epoch: 15/50\n",
            "train_loss: 0.4577, train_accuracy: 40272/48000 (0.839)\n",
            "val_loss: 0.4674, val_accuracy: 10024/12000 (0.835)\n",
            "Best loss recorded, saving weights...\n",
            "--------------------------------\n",
            "Epoch: 16/50\n",
            "train_loss: 0.4521, train_accuracy: 40396/48000 (0.842)\n",
            "val_loss: 0.4550, val_accuracy: 10100/12000 (0.842)\n",
            "Best loss recorded, saving weights...\n",
            "--------------------------------\n",
            "Epoch: 17/50\n",
            "train_loss: 0.4449, train_accuracy: 40530/48000 (0.844)\n",
            "val_loss: 0.4543, val_accuracy: 10092/12000 (0.841)\n",
            "Best loss recorded, saving weights...\n",
            "--------------------------------\n",
            "Epoch: 18/50\n",
            "train_loss: 0.4398, train_accuracy: 40587/48000 (0.846)\n",
            "val_loss: 0.4479, val_accuracy: 10110/12000 (0.843)\n",
            "Best loss recorded, saving weights...\n",
            "--------------------------------\n",
            "Epoch: 19/50\n",
            "train_loss: 0.4342, train_accuracy: 40667/48000 (0.847)\n",
            "val_loss: 0.4543, val_accuracy: 10053/12000 (0.838)\n",
            "--------------------------------\n",
            "Epoch: 20/50\n",
            "train_loss: 0.4302, train_accuracy: 40737/48000 (0.849)\n",
            "val_loss: 0.4399, val_accuracy: 10158/12000 (0.847)\n",
            "Best loss recorded, saving weights...\n",
            "--------------------------------\n",
            "Epoch: 21/50\n",
            "train_loss: 0.4256, train_accuracy: 40854/48000 (0.851)\n",
            "val_loss: 0.4459, val_accuracy: 10094/12000 (0.841)\n",
            "--------------------------------\n",
            "Epoch: 22/50\n",
            "train_loss: 0.4211, train_accuracy: 40970/48000 (0.854)\n",
            "val_loss: 0.4480, val_accuracy: 10096/12000 (0.841)\n",
            "--------------------------------\n",
            "Epoch: 23/50\n",
            "train_loss: 0.4167, train_accuracy: 41005/48000 (0.854)\n",
            "val_loss: 0.4290, val_accuracy: 10214/12000 (0.851)\n",
            "Best loss recorded, saving weights...\n",
            "--------------------------------\n",
            "Epoch: 24/50\n",
            "train_loss: 0.4132, train_accuracy: 41090/48000 (0.856)\n",
            "val_loss: 0.4293, val_accuracy: 10186/12000 (0.849)\n",
            "--------------------------------\n",
            "Epoch: 25/50\n",
            "train_loss: 0.4090, train_accuracy: 41138/48000 (0.857)\n",
            "val_loss: 0.4213, val_accuracy: 10209/12000 (0.851)\n",
            "Best loss recorded, saving weights...\n",
            "--------------------------------\n",
            "Epoch: 26/50\n",
            "train_loss: 0.4050, train_accuracy: 41209/48000 (0.859)\n",
            "val_loss: 0.4186, val_accuracy: 10264/12000 (0.855)\n",
            "Best loss recorded, saving weights...\n",
            "--------------------------------\n",
            "Epoch: 27/50\n",
            "train_loss: 0.4014, train_accuracy: 41293/48000 (0.860)\n",
            "val_loss: 0.4191, val_accuracy: 10247/12000 (0.854)\n",
            "--------------------------------\n",
            "Epoch: 28/50\n",
            "train_loss: 0.3971, train_accuracy: 41380/48000 (0.862)\n",
            "val_loss: 0.4174, val_accuracy: 10293/12000 (0.858)\n",
            "Best loss recorded, saving weights...\n",
            "--------------------------------\n",
            "Epoch: 29/50\n",
            "train_loss: 0.3954, train_accuracy: 41331/48000 (0.861)\n",
            "val_loss: 0.4139, val_accuracy: 10282/12000 (0.857)\n",
            "Best loss recorded, saving weights...\n",
            "--------------------------------\n",
            "Epoch: 30/50\n",
            "train_loss: 0.3910, train_accuracy: 41489/48000 (0.864)\n",
            "val_loss: 0.4186, val_accuracy: 10239/12000 (0.853)\n",
            "--------------------------------\n",
            "Epoch: 31/50\n",
            "train_loss: 0.3890, train_accuracy: 41490/48000 (0.864)\n",
            "val_loss: 0.4130, val_accuracy: 10243/12000 (0.854)\n",
            "Best loss recorded, saving weights...\n",
            "--------------------------------\n",
            "Epoch: 32/50\n",
            "train_loss: 0.3855, train_accuracy: 41591/48000 (0.866)\n",
            "val_loss: 0.4032, val_accuracy: 10324/12000 (0.860)\n",
            "Best loss recorded, saving weights...\n",
            "--------------------------------\n",
            "Epoch: 33/50\n",
            "train_loss: 0.3821, train_accuracy: 41628/48000 (0.867)\n",
            "val_loss: 0.4004, val_accuracy: 10324/12000 (0.860)\n",
            "Best loss recorded, saving weights...\n",
            "--------------------------------\n",
            "Epoch: 34/50\n",
            "train_loss: 0.3794, train_accuracy: 41590/48000 (0.866)\n",
            "val_loss: 0.4004, val_accuracy: 10302/12000 (0.859)\n",
            "--------------------------------\n",
            "Epoch: 35/50\n",
            "train_loss: 0.3773, train_accuracy: 41670/48000 (0.868)\n",
            "val_loss: 0.4078, val_accuracy: 10300/12000 (0.858)\n",
            "--------------------------------\n",
            "Epoch: 36/50\n",
            "train_loss: 0.3739, train_accuracy: 41742/48000 (0.870)\n",
            "val_loss: 0.3971, val_accuracy: 10346/12000 (0.862)\n",
            "Best loss recorded, saving weights...\n",
            "--------------------------------\n",
            "Epoch: 37/50\n",
            "train_loss: 0.3718, train_accuracy: 41743/48000 (0.870)\n",
            "val_loss: 0.3930, val_accuracy: 10366/12000 (0.864)\n",
            "Best loss recorded, saving weights...\n",
            "--------------------------------\n",
            "Epoch: 38/50\n",
            "train_loss: 0.3687, train_accuracy: 41799/48000 (0.871)\n",
            "val_loss: 0.3954, val_accuracy: 10346/12000 (0.862)\n",
            "--------------------------------\n",
            "Epoch: 39/50\n",
            "train_loss: 0.3660, train_accuracy: 41873/48000 (0.872)\n",
            "val_loss: 0.3970, val_accuracy: 10321/12000 (0.860)\n",
            "--------------------------------\n",
            "Epoch: 40/50\n",
            "train_loss: 0.3634, train_accuracy: 41876/48000 (0.872)\n",
            "val_loss: 0.3913, val_accuracy: 10359/12000 (0.863)\n",
            "Best loss recorded, saving weights...\n",
            "--------------------------------\n",
            "Epoch: 41/50\n",
            "train_loss: 0.3620, train_accuracy: 41914/48000 (0.873)\n",
            "val_loss: 0.3878, val_accuracy: 10371/12000 (0.864)\n",
            "Best loss recorded, saving weights...\n",
            "--------------------------------\n",
            "Epoch: 42/50\n",
            "train_loss: 0.3589, train_accuracy: 41929/48000 (0.874)\n",
            "val_loss: 0.3838, val_accuracy: 10396/12000 (0.866)\n",
            "Best loss recorded, saving weights...\n",
            "--------------------------------\n",
            "Epoch: 43/50\n",
            "train_loss: 0.3560, train_accuracy: 41995/48000 (0.875)\n",
            "val_loss: 0.3830, val_accuracy: 10409/12000 (0.867)\n",
            "Best loss recorded, saving weights...\n",
            "--------------------------------\n",
            "Epoch: 44/50\n",
            "train_loss: 0.3547, train_accuracy: 42024/48000 (0.875)\n",
            "val_loss: 0.3820, val_accuracy: 10407/12000 (0.867)\n",
            "Best loss recorded, saving weights...\n",
            "--------------------------------\n",
            "Epoch: 45/50\n",
            "train_loss: 0.3522, train_accuracy: 42055/48000 (0.876)\n",
            "val_loss: 0.3933, val_accuracy: 10369/12000 (0.864)\n",
            "--------------------------------\n",
            "Epoch: 46/50\n",
            "train_loss: 0.3506, train_accuracy: 42096/48000 (0.877)\n",
            "val_loss: 0.3788, val_accuracy: 10432/12000 (0.869)\n",
            "Best loss recorded, saving weights...\n",
            "--------------------------------\n",
            "Epoch: 47/50\n",
            "train_loss: 0.3478, train_accuracy: 42129/48000 (0.878)\n",
            "val_loss: 0.3821, val_accuracy: 10391/12000 (0.866)\n",
            "--------------------------------\n",
            "Epoch: 48/50\n",
            "train_loss: 0.3450, train_accuracy: 42199/48000 (0.879)\n",
            "val_loss: 0.3768, val_accuracy: 10423/12000 (0.869)\n",
            "Best loss recorded, saving weights...\n",
            "--------------------------------\n",
            "Epoch: 49/50\n",
            "train_loss: 0.3436, train_accuracy: 42224/48000 (0.880)\n",
            "val_loss: 0.3759, val_accuracy: 10415/12000 (0.868)\n",
            "Best loss recorded, saving weights...\n",
            "--------------------------------\n"
          ],
          "name": "stdout"
        }
      ]
    },
    {
      "metadata": {
        "id": "9VO_42wT_OWl",
        "colab_type": "text"
      },
      "cell_type": "markdown",
      "source": [
        "## Analysing Train/Val Accuracy and Loss"
      ]
    },
    {
      "metadata": {
        "id": "4A6AA807_R6a",
        "colab_type": "code",
        "outputId": "33320791-0d5a-48fd-b341-6e7a11f11b83",
        "colab": {
          "base_uri": "https://localhost:8080/",
          "height": 518
        }
      },
      "cell_type": "code",
      "source": [
        "# Plot training and validation loss\n",
        "plt.figure(1)\n",
        "x1 = [i for i in range(0, len(loss_hist), 2)]\n",
        "plt.plot([i[0] for i in loss_hist], label = \"Training Loss\")\n",
        "plt.plot([i[1] for i in loss_hist], label = \"Validation Loss\")\n",
        "plt.xticks(x1)\n",
        "plt.legend()\n",
        "\n",
        "\n",
        "# Plot training and validation accuracy\n",
        "plt.figure(2)\n",
        "x2 = [i for i in range(0, len(loss_hist), 2)]\n",
        "plt.plot([i[0] for i in acc_hist], label = \"Training Accuracy\")\n",
        "plt.plot([i[1] for i in acc_hist], label = \"Validation Accuracy\")\n",
        "plt.xticks(x2)\n",
        "plt.legend()\n",
        "\n",
        "plt.show()"
      ],
      "execution_count": 0,
      "outputs": [
        {
          "output_type": "display_data",
          "data": {
            "image/png": "[encoded data removed]",
            "text/plain": [
              "<Figure size 432x288 with 1 Axes>"
            ]
          },
          "metadata": {
            "tags": []
          }
        },
        {
          "output_type": "display_data",
          "data": {
            "image/png": "[encoded data removed]",
            "text/plain": [
              "<Figure size 432x288 with 1 Axes>"
            ]
          },
          "metadata": {
            "tags": []
          }
        }
      ]
    },
    {
      "metadata": {
        "id": "thF5NjBz_TZm",
        "colab_type": "text"
      },
      "cell_type": "markdown",
      "source": [
        "## Evaluating Model on Test Set"
      ]
    },
    {
      "metadata": {
        "id": "LqR02K5o_VlL",
        "colab_type": "code",
        "outputId": "cb227c17-b8a8-4539-9e1e-c5684d7141ff",
        "colab": {
          "base_uri": "https://localhost:8080/",
          "height": 51
        }
      },
      "cell_type": "code",
      "source": [
        "best_model = SimpleNN(input_dims=28*28).to(device)\n",
        "best_model.load_state_dict(torch.load('fashionmnist.pt'))\n",
        "\n",
        "test_loss, test_acc, clf_report = test(best_model, device, valid_loader)"
      ],
      "execution_count": 0,
      "outputs": [
        {
          "output_type": "stream",
          "text": [
            "test_loss: 0.3513, test_accuracy: 10525/12000.0 (0.877)\n",
            "\n"
          ],
          "name": "stdout"
        }
      ]
    },
    {
      "metadata": {
        "id": "l4RXExsL_73-",
        "colab_type": "text"
      },
      "cell_type": "markdown",
      "source": [
        "## Class-wise Accuracy"
      ]
    },
    {
      "metadata": {
        "id": "Dmg_NLEH_-IS",
        "colab_type": "code",
        "outputId": "1023a77a-ca52-4ec3-c68f-c090abc08fdb",
        "colab": {
          "base_uri": "https://localhost:8080/",
          "height": 333
        }
      },
      "cell_type": "code",
      "source": [
        "CLASS_CLOTHING = {0 :'T-shirt/top',\n",
        "                  1 :'Trouser',\n",
        "                  2 :'Pullover',\n",
        "                  3 :'Dress',\n",
        "                  4 :'Coat',\n",
        "                  5 :'Sandal',\n",
        "                  6 :'Shirt',\n",
        "                  7 :'Sneaker',\n",
        "                  8 :'Bag',\n",
        "                  9 :'Ankle boot'}\n",
        "\n",
        "# Create dictionary of class and accuracy\n",
        "class_wise_acc = dict()\n",
        "total_acc = 0\n",
        "for i in range(len(clf_report)):\n",
        "    class_wise_acc[CLASS_CLOTHING[i]] = clf_report[i].item()\n",
        "    total_acc += clf_report[i].item()\n",
        "\n",
        "class_wise_acc = dict(sorted(class_wise_acc.items(), key=lambda x: x[1]))\n",
        "plt.bar(range(len(class_wise_acc)), list(class_wise_acc.values()), align='center')\n",
        "plt.xticks(range(len(class_wise_acc)), list(class_wise_acc.keys()), rotation = 60)\n",
        "plt.title(\"Classification Accuracy per class\")\n",
        "plt.show()\n",
        "\n",
        "print('Average accuracy over classes: {}'.format(total_acc/10))"
      ],
      "execution_count": 0,
      "outputs": [
        {
          "output_type": "display_data",
          "data": {
            "image/png": "[encoded data removed]",
            "text/plain": [
              "<Figure size 432x288 with 1 Axes>"
            ]
          },
          "metadata": {
            "tags": []
          }
        },
        {
          "output_type": "stream",
          "text": [
            "Average accuracy over classes: 0.8785332202911377\n"
          ],
          "name": "stdout"
        }
      ]
    },
    {
      "metadata": {
        "id": "HiBza2Y9Pvuz",
        "colab_type": "code",
        "colab": {}
      },
      "cell_type": "code",
      "source": [
        ""
      ],
      "execution_count": 0,
      "outputs": []
    }
  ]
}